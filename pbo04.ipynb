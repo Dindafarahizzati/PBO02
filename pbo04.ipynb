{
  "nbformat": 4,
  "nbformat_minor": 0,
  "metadata": {
    "colab": {
      "provenance": []
    },
    "kernelspec": {
      "name": "python3",
      "display_name": "Python 3"
    },
    "language_info": {
      "name": "python"
    }
  },
  "cells": [
    {
      "cell_type": "code",
      "execution_count": 1,
      "metadata": {
        "colab": {
          "base_uri": "https://localhost:8080/"
        },
        "id": "Dk3_E0Bjk7c5",
        "outputId": "35d88585-2c69-4788-8d31-be1735131de9"
      },
      "outputs": [
        {
          "output_type": "stream",
          "name": "stdout",
          "text": [
            "Merk = Honda\n",
            "Model = CBR 150R\n",
            "Tahun = 2022\n"
          ]
        }
      ],
      "source": [
        "class Motor:\n",
        "    def __init__(self, merk, model, tahun):\n",
        "        self.merk = merk\n",
        "        self.model = model\n",
        "        self.tahun = tahun\n",
        "\n",
        "def main():\n",
        "    motor1 = Motor(\"Honda\", \"CBR 150R\", 2022)\n",
        "\n",
        "    print(\"Merk =\", motor1.merk)\n",
        "    print(\"Model =\", motor1.model)\n",
        "    print(\"Tahun =\", motor1.tahun)\n",
        "\n",
        "if __name__ == \"__main__\":\n",
        "    main()\n"
      ]
    }
  ]
}