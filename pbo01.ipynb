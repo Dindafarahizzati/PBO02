{
  "nbformat": 4,
  "nbformat_minor": 0,
  "metadata": {
    "colab": {
      "provenance": []
    },
    "kernelspec": {
      "name": "python3",
      "display_name": "Python 3"
    },
    "language_info": {
      "name": "python"
    }
  },
  "cells": [
    {
      "cell_type": "code",
      "execution_count": 1,
      "metadata": {
        "colab": {
          "base_uri": "https://localhost:8080/"
        },
        "id": "oA_W_prFdtVT",
        "outputId": "d9861097-53c5-4129-8085-c570f328ef38"
      },
      "outputs": [
        {
          "output_type": "stream",
          "name": "stdout",
          "text": [
            "Nama: Dinda Farah Izzati\n",
            "NIM: 230705061\n",
            "KRS: Statistika, PBO, Kecerdasan Bisnis\n"
          ]
        }
      ],
      "source": [
        "class mahasiswa:\n",
        "    def __init__(self, nama, nim, krs):\n",
        "        self.nama = nama\n",
        "        self.nim = nim\n",
        "        self.krs = krs\n",
        "\n",
        "def main():\n",
        "    mhs = mahasiswa(\"Dinda Farah Izzati\", 230705061, \"Statistika, PBO, Kecerdasan Bisnis\")\n",
        "\n",
        "    print(\"Nama:\", mhs.nama)\n",
        "    print(\"NIM:\", mhs.nim)\n",
        "    print(\"KRS:\", mhs.krs)\n",
        "\n",
        "if __name__ == '__main__':\n",
        "    main()"
      ]
    }
  ]
}