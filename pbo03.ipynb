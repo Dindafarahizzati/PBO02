{
  "nbformat": 4,
  "nbformat_minor": 0,
  "metadata": {
    "colab": {
      "provenance": []
    },
    "kernelspec": {
      "name": "python3",
      "display_name": "Python 3"
    },
    "language_info": {
      "name": "python"
    }
  },
  "cells": [
    {
      "cell_type": "code",
      "execution_count": 1,
      "metadata": {
        "colab": {
          "base_uri": "https://localhost:8080/"
        },
        "id": "TnReJpw_jCKM",
        "outputId": "aea873f0-b9a3-472b-900b-0eb872872b47"
      },
      "outputs": [
        {
          "output_type": "stream",
          "name": "stdout",
          "text": [
            "Nama Warung = Warung Algoritma\n",
            "Lokasi = Banda Aceh\n",
            "Tahun Berdiri = 2025\n"
          ]
        }
      ],
      "source": [
        "class warungkopi:\n",
        "  def __init__(self, nama, lokasi, tahun_berdiri):\n",
        "    self.nama = nama\n",
        "    self.lokasi = lokasi\n",
        "    self.tahun_berdiri = tahun_berdiri\n",
        "\n",
        "def main():\n",
        "  warung1 = warungkopi(\"Warung Algoritma\", \"Banda Aceh\", 2025)\n",
        "\n",
        "  print(\"Nama Warung =\", warung1.nama)\n",
        "  print(\"Lokasi =\", warung1.lokasi)\n",
        "  print(\"Tahun Berdiri =\", warung1.tahun_berdiri)\n",
        "\n",
        "if __name__ == \"__main__\":\n",
        "  main()"
      ]
    }
  ]
}