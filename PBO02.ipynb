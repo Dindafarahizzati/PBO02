{
  "nbformat": 4,
  "nbformat_minor": 0,
  "metadata": {
    "colab": {
      "provenance": []
    },
    "kernelspec": {
      "name": "python3",
      "display_name": "Python 3"
    },
    "language_info": {
      "name": "python"
    }
  },
  "cells": [
    {
      "cell_type": "code",
      "execution_count": 2,
      "metadata": {
        "colab": {
          "base_uri": "https://localhost:8080/"
        },
        "id": "P-y8T5k-gbKM",
        "outputId": "07681d24-097c-48b6-915b-72e15f4cb73c"
      },
      "outputs": [
        {
          "output_type": "stream",
          "name": "stdout",
          "text": [
            "Luas Lingkaran = 153.86 \n"
          ]
        }
      ],
      "source": [
        "class lingkaran:\n",
        "  def __init__(self, jari_jari):\n",
        "    self.jari_jari = 0.0\n",
        "\n",
        "def main():\n",
        "  obj = lingkaran\n",
        "\n",
        "  obj.jari_jari = 7\n",
        "\n",
        "  luas = obj.jari_jari * obj.jari_jari * 3.14\n",
        "  print(\"Luas Lingkaran = %.2f \" % luas)\n",
        "\n",
        "if __name__ == '__main__':\n",
        "  main()"
      ]
    }
  ]
}