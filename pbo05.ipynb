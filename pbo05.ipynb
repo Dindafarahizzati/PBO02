{
  "nbformat": 4,
  "nbformat_minor": 0,
  "metadata": {
    "colab": {
      "provenance": []
    },
    "kernelspec": {
      "name": "python3",
      "display_name": "Python 3"
    },
    "language_info": {
      "name": "python"
    }
  },
  "cells": [
    {
      "cell_type": "code",
      "execution_count": null,
      "metadata": {
        "id": "Z8ojxrlol4Lc"
      },
      "outputs": [],
      "source": [
        "class Handphone:\n",
        "    def __init__(self, brand, model, harga):\n",
        "        self.brand = brand\n",
        "        self.model = model\n",
        "        self.harga = harga\n",
        "\n",
        "def main():\n",
        "    hp1 = Handphone(\"Oppo\", \"Reno 06\", 12000000)\n",
        "    hp2 = Handphone(\"Apple\", \"iPhone 14 Pro\", 18000000)\n",
        "\n",
        "    print(hp1.brand, hp1.model, hp1.harga)\n",
        "    print(hp2.brand, hp2.model, hp2.harga)\n",
        "\n",
        "if __name__ == \"__main__\":\n",
        "    main()\n"
      ]
    }
  ]
}